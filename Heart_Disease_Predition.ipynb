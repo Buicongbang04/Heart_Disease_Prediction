{
 "cells": [
  {
   "cell_type": "markdown",
   "id": "2b8a7e6d",
   "metadata": {},
   "source": [
    "# Import"
   ]
  },
  {
   "cell_type": "code",
   "execution_count": 2,
   "id": "386158a7",
   "metadata": {},
   "outputs": [],
   "source": [
    "import numpy as np \n",
    "import pandas as pd \n",
    "import matplotlib.pyplot as plt \n",
    "import seaborn as sns"
   ]
  },
  {
   "cell_type": "markdown",
   "id": "2411487e",
   "metadata": {},
   "source": [
    "# Dataset"
   ]
  },
  {
   "cell_type": "code",
   "execution_count": 3,
   "id": "d385c5f3",
   "metadata": {},
   "outputs": [
    {
     "data": {
      "text/html": [
       "<div>\n",
       "<style scoped>\n",
       "    .dataframe tbody tr th:only-of-type {\n",
       "        vertical-align: middle;\n",
       "    }\n",
       "\n",
       "    .dataframe tbody tr th {\n",
       "        vertical-align: top;\n",
       "    }\n",
       "\n",
       "    .dataframe thead th {\n",
       "        text-align: right;\n",
       "    }\n",
       "</style>\n",
       "<table border=\"1\" class=\"dataframe\">\n",
       "  <thead>\n",
       "    <tr style=\"text-align: right;\">\n",
       "      <th></th>\n",
       "      <th>age</th>\n",
       "      <th>sex</th>\n",
       "      <th>cp</th>\n",
       "      <th>trestbps</th>\n",
       "      <th>chol</th>\n",
       "      <th>fbs</th>\n",
       "      <th>restecg</th>\n",
       "      <th>thalach</th>\n",
       "      <th>exang</th>\n",
       "      <th>oldpeak</th>\n",
       "      <th>slope</th>\n",
       "      <th>ca</th>\n",
       "      <th>thal</th>\n",
       "      <th>target</th>\n",
       "    </tr>\n",
       "  </thead>\n",
       "  <tbody>\n",
       "    <tr>\n",
       "      <th>0</th>\n",
       "      <td>67</td>\n",
       "      <td>1</td>\n",
       "      <td>4</td>\n",
       "      <td>160</td>\n",
       "      <td>286</td>\n",
       "      <td>0</td>\n",
       "      <td>2</td>\n",
       "      <td>108</td>\n",
       "      <td>1</td>\n",
       "      <td>1.5</td>\n",
       "      <td>2</td>\n",
       "      <td>3.0</td>\n",
       "      <td>3.0</td>\n",
       "      <td>1</td>\n",
       "    </tr>\n",
       "    <tr>\n",
       "      <th>1</th>\n",
       "      <td>67</td>\n",
       "      <td>1</td>\n",
       "      <td>4</td>\n",
       "      <td>120</td>\n",
       "      <td>229</td>\n",
       "      <td>0</td>\n",
       "      <td>2</td>\n",
       "      <td>129</td>\n",
       "      <td>1</td>\n",
       "      <td>2.6</td>\n",
       "      <td>2</td>\n",
       "      <td>2.0</td>\n",
       "      <td>7.0</td>\n",
       "      <td>1</td>\n",
       "    </tr>\n",
       "    <tr>\n",
       "      <th>2</th>\n",
       "      <td>37</td>\n",
       "      <td>1</td>\n",
       "      <td>3</td>\n",
       "      <td>130</td>\n",
       "      <td>250</td>\n",
       "      <td>0</td>\n",
       "      <td>0</td>\n",
       "      <td>187</td>\n",
       "      <td>0</td>\n",
       "      <td>3.5</td>\n",
       "      <td>3</td>\n",
       "      <td>0.0</td>\n",
       "      <td>3.0</td>\n",
       "      <td>0</td>\n",
       "    </tr>\n",
       "    <tr>\n",
       "      <th>3</th>\n",
       "      <td>41</td>\n",
       "      <td>0</td>\n",
       "      <td>2</td>\n",
       "      <td>130</td>\n",
       "      <td>204</td>\n",
       "      <td>0</td>\n",
       "      <td>2</td>\n",
       "      <td>172</td>\n",
       "      <td>0</td>\n",
       "      <td>1.4</td>\n",
       "      <td>1</td>\n",
       "      <td>0.0</td>\n",
       "      <td>3.0</td>\n",
       "      <td>0</td>\n",
       "    </tr>\n",
       "    <tr>\n",
       "      <th>4</th>\n",
       "      <td>56</td>\n",
       "      <td>1</td>\n",
       "      <td>2</td>\n",
       "      <td>120</td>\n",
       "      <td>236</td>\n",
       "      <td>0</td>\n",
       "      <td>0</td>\n",
       "      <td>178</td>\n",
       "      <td>0</td>\n",
       "      <td>0.8</td>\n",
       "      <td>1</td>\n",
       "      <td>0.0</td>\n",
       "      <td>3.0</td>\n",
       "      <td>0</td>\n",
       "    </tr>\n",
       "  </tbody>\n",
       "</table>\n",
       "</div>"
      ],
      "text/plain": [
       "   age  sex  cp  trestbps  chol  fbs  restecg  thalach  exang  oldpeak  slope  \\\n",
       "0   67    1   4       160   286    0        2      108      1      1.5      2   \n",
       "1   67    1   4       120   229    0        2      129      1      2.6      2   \n",
       "2   37    1   3       130   250    0        0      187      0      3.5      3   \n",
       "3   41    0   2       130   204    0        2      172      0      1.4      1   \n",
       "4   56    1   2       120   236    0        0      178      0      0.8      1   \n",
       "\n",
       "    ca  thal  target  \n",
       "0  3.0   3.0       1  \n",
       "1  2.0   7.0       1  \n",
       "2  0.0   3.0       0  \n",
       "3  0.0   3.0       0  \n",
       "4  0.0   3.0       0  "
      ]
     },
     "execution_count": 3,
     "metadata": {},
     "output_type": "execute_result"
    }
   ],
   "source": [
    "df = pd.read_csv(r'cleveland.csv')\n",
    "df.columns =  ['age','sex','cp','trestbps','chol','fbs','restecg','thalach','exang','oldpeak','slope','ca','thal','target']\n",
    "df['target'] = list(map(lambda x : 1 if x != 0 else 0, df['target']))\n",
    "df['thal'] = df.thal.fillna(df.thal.mean())\n",
    "df['ca'] = df.ca.fillna(df.ca.mean())\n",
    "df.head()"
   ]
  },
  {
   "cell_type": "markdown",
   "id": "8125a033",
   "metadata": {},
   "source": [
    "### Plot Distribution of target and age"
   ]
  },
  {
   "cell_type": "code",
   "execution_count": 4,
   "id": "c8b90904",
   "metadata": {},
   "outputs": [
    {
     "data": {
      "image/png": "[encoded data removed]",
      "text/plain": [
       "<Figure size 551.75x500 with 1 Axes>"
      ]
     },
     "metadata": {},
     "output_type": "display_data"
    }
   ],
   "source": [
    "sns.set_context('paper',\n",
    "                font_scale=1,\n",
    "                rc={\n",
    "                    \"font.size\":3,\n",
    "                    \"axes.titlesize\":15,\n",
    "                    \"axes.labelsize\":10,\n",
    "                })\n",
    "\n",
    "ax = sns.catplot(kind='count',\n",
    "                 data=df,\n",
    "                 x='age',\n",
    "                 hue='target',\n",
    "                 order=df.age.sort_values().unique())\n",
    "\n",
    "ax.ax.set_xticks(np.arange(0, 80, 5))\n",
    "plt.title('Variation of age for each Target class')\n",
    "plt.show()"
   ]
  },
  {
   "cell_type": "markdown",
   "id": "506b33af",
   "metadata": {},
   "source": [
    "### Plot Distribution of age and sex with the target"
   ]
  },
  {
   "cell_type": "code",
   "execution_count": 5,
   "id": "e08cf723",
   "metadata": {},
   "outputs": [
    {
     "data": {
      "image/png": "[encoded data removed]",
      "text/plain": [
       "<Figure size 551.75x500 with 1 Axes>"
      ]
     },
     "metadata": {},
     "output_type": "display_data"
    }
   ],
   "source": [
    "sns.set_context('paper',\n",
    "                font_scale=1,\n",
    "                rc={\n",
    "                    \"font.size\":3,\n",
    "                    \"axes.titlesize\":15,\n",
    "                    \"axes.labelsize\":10,\n",
    "                })\n",
    "\n",
    "sns.catplot(kind='bar',\n",
    "                 data=df,\n",
    "                 x='sex',\n",
    "                 y='age',\n",
    "                 hue='target')\n",
    "plt.title('Distribution of age and sex with the target')\n",
    "plt.show()"
   ]
  },
  {
   "cell_type": "markdown",
   "id": "759b867b",
   "metadata": {},
   "source": [
    "### KNN "
   ]
  },
  {
   "cell_type": "code",
   "execution_count": 6,
   "id": "1d749093",
   "metadata": {},
   "outputs": [
    {
     "name": "stdout",
     "output_type": "stream",
     "text": [
      "\n",
      "Accuracy for training set for KNeighborsClassifier = 0.76\n",
      "Accuracy for test set for KNeighborsClassifier = 0.61\n"
     ]
    }
   ],
   "source": [
    "from sklearn.model_selection import train_test_split\n",
    "from sklearn.neighbors import KNeighborsClassifier\n",
    "from sklearn.metrics import confusion_matrix\n",
    "\n",
    "X = df.iloc[:, :-1].values\n",
    "y = df.iloc[:, -1].values\n",
    "\n",
    "X_train, X_test, y_train, y_test = train_test_split(X, y, test_size=0.2, random_state=42)\n",
    "\n",
    "model = KNeighborsClassifier(n_neighbors=5,\n",
    "                             weights='uniform',\n",
    "                             algorithm='auto',\n",
    "                             leaf_size=30,\n",
    "                             p=2,\n",
    "                             metric='minkowski')\n",
    "model.fit(X_train, y_train)\n",
    "\n",
    "y_pred = model.predict(X_test)\n",
    "\n",
    "cm_test = confusion_matrix(y_test, y_pred)\n",
    "cm_train = confusion_matrix(y_train, model.predict(X_train))\n",
    "\n",
    "print()\n",
    "accuracy_for_train = np.round((cm_train [0][0] + cm_train [1][1])/len(y_train) ,2)\n",
    "accuracy_for_test = np.round((cm_test [0][0] + cm_test [1][1])/len(y_test) ,2)\n",
    "print('Accuracy for training set for KNeighborsClassifier = {}'.format(accuracy_for_train))\n",
    "print('Accuracy for test set for KNeighborsClassifier = {}'.format(accuracy_for_test))\n"
   ]
  },
  {
   "cell_type": "markdown",
   "id": "16cacfcb",
   "metadata": {},
   "source": [
    "### SVM"
   ]
  },
  {
   "cell_type": "code",
   "execution_count": 7,
   "id": "aa08afbe",
   "metadata": {},
   "outputs": [],
   "source": [
    "from sklearn.model_selection import train_test_split\n",
    "from sklearn.naive_bayes import GaussianNB\n",
    "from sklearn.metrics import confusion_matrix"
   ]
  },
  {
   "cell_type": "code",
   "execution_count": 8,
   "id": "8380129e",
   "metadata": {},
   "outputs": [
    {
     "name": "stdout",
     "output_type": "stream",
     "text": [
      "\n",
      "Accuracy for training set for GaussianNB = 0.85\n",
      "Accuracy for test set for GaussianNB = 0.85\n"
     ]
    }
   ],
   "source": [
    "X = df . iloc [: , : -1]. values\n",
    "y = df . iloc [: , -1]. values\n",
    "\n",
    "X_train , X_test , y_train , y_test = train_test_split (X, y, test_size = 0.2, random_state = 42)\n",
    "\n",
    "classifier = GaussianNB ()\n",
    "classifier.fit(X_train , y_train)\n",
    "\n",
    "y_pred = classifier.predict(X_test)\n",
    "\n",
    "cm_test = confusion_matrix(y_test , y_pred)\n",
    "cm_train = confusion_matrix(y_train , classifier.predict(X_train))\n",
    "\n",
    "print()\n",
    "accuracy_for_test = np.round((cm_test [0][0] + cm_test [1][1])/len(y_test) ,2)\n",
    "accuracy_for_train = np.round((cm_train [0][0] + cm_train [1][1])/len(y_train) ,2)\n",
    "print('Accuracy for training set for GaussianNB = {}'.format(accuracy_for_train))\n",
    "print('Accuracy for test set for GaussianNB = {}'.format(accuracy_for_test))\n"
   ]
  },
  {
   "cell_type": "markdown",
   "id": "3d8b76d2",
   "metadata": {},
   "source": [
    "### Decision Tree"
   ]
  },
  {
   "cell_type": "code",
   "execution_count": 9,
   "id": "5da4c8a2",
   "metadata": {},
   "outputs": [],
   "source": [
    "from sklearn.model_selection import train_test_split\n",
    "from sklearn.tree import DecisionTreeClassifier\n",
    "from sklearn.metrics import confusion_matrix"
   ]
  },
  {
   "cell_type": "code",
   "execution_count": 10,
   "id": "d29b3dc7",
   "metadata": {},
   "outputs": [
    {
     "name": "stdout",
     "output_type": "stream",
     "text": [
      "\n",
      "Accuracy for training set for DecisionTreeClassifier = 1.0\n",
      "Accuracy for test set for DecisionTreeClassifier = 0.77\n"
     ]
    }
   ],
   "source": [
    "X = df.iloc[:, :-1].values\n",
    "y = df.iloc[:, -1].values\n",
    "\n",
    "X_train, X_test, y_train, y_test = train_test_split(X, y, test_size=0.2, random_state=42)\n",
    "\n",
    "classifier = DecisionTreeClassifier(criterion='gini',\n",
    "                                    max_depth=10,\n",
    "                                    min_samples_split=2,\n",
    "                                    random_state=42,\n",
    "                                    ccp_alpha=0.0)\n",
    "\n",
    "classifier.fit(X_train, y_train)\n",
    "\n",
    "y_pred = classifier.predict(X_test)\n",
    "\n",
    "cm_test = confusion_matrix(y_test, y_pred)\n",
    "cm_train = confusion_matrix(y_train, classifier.predict(X_train))\n",
    "\n",
    "print()\n",
    "accuracy_for_train = np.round((cm_train[0][0] + cm_train[1][1])/len(y_train) ,2)\n",
    "accuracy_for_test = np.round((cm_test[0][0] + cm_test[1][1])/len(y_test) ,2)\n",
    "print('Accuracy for training set for DecisionTreeClassifier = {}'.format(accuracy_for_train))\n",
    "print('Accuracy for test set for DecisionTreeClassifier = {}'.format(accuracy_for_test))"
   ]
  },
  {
   "cell_type": "markdown",
   "id": "46f6e66e",
   "metadata": {},
   "source": [
    "### Random Forest"
   ]
  },
  {
   "cell_type": "code",
   "execution_count": 11,
   "id": "84011891",
   "metadata": {},
   "outputs": [],
   "source": [
    "from sklearn.model_selection import train_test_split\n",
    "from sklearn.ensemble import RandomForestClassifier\n",
    "from sklearn.metrics import confusion_matrix"
   ]
  },
  {
   "cell_type": "code",
   "execution_count": 13,
   "id": "e042b6c9",
   "metadata": {},
   "outputs": [
    {
     "name": "stdout",
     "output_type": "stream",
     "text": [
      "\n",
      "Accuracy for training set for RandomForestClassifier = 0.99\n",
      "Accuracy for test set for RandomForestClassifier = 0.77\n"
     ]
    }
   ],
   "source": [
    "X = df.iloc[:, :-1].values\n",
    "y = df.iloc[:, -1].values\n",
    "\n",
    "X_train, X_test, y_train, y_test = train_test_split(X, y, test_size=0.2, random_state=42)\n",
    "\n",
    "classifier = RandomForestClassifier(criterion='gini',\n",
    "                                    max_depth=10,\n",
    "                                    min_samples_split=2,\n",
    "                                    min_samples_leaf=1,\n",
    "                                    max_features='sqrt',\n",
    "                                    random_state=42,\n",
    "                                    n_estimators=10)\n",
    "\n",
    "classifier.fit(X_train, y_train)\n",
    "\n",
    "y_pred = classifier.predict(X_test)\n",
    "\n",
    "cm_test = confusion_matrix(y_test, y_pred)\n",
    "cm_train = confusion_matrix(y_train, classifier.predict(X_train))\n",
    "\n",
    "print()\n",
    "accuracy_for_train = np.round((cm_train[0][0] + cm_train[1][1])/len(y_train) ,2)\n",
    "accuracy_for_test = np.round((cm_test[0][0] + cm_test[1][1])/len(y_test) ,2)\n",
    "print('Accuracy for training set for RandomForestClassifier = {}'.format(accuracy_for_train))\n",
    "print('Accuracy for test set for RandomForestClassifier = {}'.format(accuracy_for_test))"
   ]
  },
  {
   "cell_type": "markdown",
   "id": "9dda4949",
   "metadata": {},
   "source": [
    "### AdaBoost"
   ]
  },
  {
   "cell_type": "code",
   "execution_count": 14,
   "id": "c3f68d7f",
   "metadata": {},
   "outputs": [],
   "source": [
    "from sklearn.model_selection import train_test_split\n",
    "from sklearn.ensemble import AdaBoostClassifier\n",
    "from sklearn.metrics import confusion_matrix"
   ]
  },
  {
   "cell_type": "code",
   "execution_count": 15,
   "id": "627bd043",
   "metadata": {},
   "outputs": [
    {
     "name": "stdout",
     "output_type": "stream",
     "text": [
      "\n",
      "Accuracy for training set for AdaBoostClassifier = 0.9\n",
      "Accuracy for test set for AdaBoostClassifier = 0.84\n"
     ]
    }
   ],
   "source": [
    "X = df.iloc[:, :-1].values\n",
    "y = df.iloc[:, -1].values\n",
    "\n",
    "X_train, X_test, y_train, y_test = train_test_split(X, y, test_size=0.2, random_state=42)\n",
    "\n",
    "classifier = AdaBoostClassifier(n_estimators=50,\n",
    "                                learning_rate=1.0,\n",
    "                                random_state=42,)\n",
    "\n",
    "classifier.fit(X_train, y_train)\n",
    "\n",
    "y_pred = classifier.predict(X_test)\n",
    "\n",
    "cm_test = confusion_matrix(y_test, y_pred)\n",
    "cm_train = confusion_matrix(y_train, classifier.predict(X_train))\n",
    "\n",
    "print()\n",
    "accuracy_for_train = np.round((cm_train[0][0] + cm_train[1][1])/len(y_train) ,2)\n",
    "accuracy_for_test = np.round((cm_test[0][0] + cm_test[1][1])/len(y_test) ,2)\n",
    "print('Accuracy for training set for AdaBoostClassifier = {}'.format(accuracy_for_train))\n",
    "print('Accuracy for test set for AdaBoostClassifier = {}'.format(accuracy_for_test))"
   ]
  },
  {
   "cell_type": "markdown",
   "id": "294f4c22",
   "metadata": {},
   "source": [
    "### Gradient Boosting"
   ]
  },
  {
   "cell_type": "code",
   "execution_count": 16,
   "id": "c66f4320",
   "metadata": {},
   "outputs": [],
   "source": [
    "from sklearn.model_selection import train_test_split\n",
    "from sklearn.ensemble import GradientBoostingClassifier\n",
    "from sklearn.metrics import confusion_matrix"
   ]
  },
  {
   "cell_type": "code",
   "execution_count": 17,
   "id": "6eb594f3",
   "metadata": {},
   "outputs": [
    {
     "name": "stdout",
     "output_type": "stream",
     "text": [
      "\n",
      "Accuracy for training set for GradientBoostingClassifier = 0.99\n",
      "Accuracy for test set for GradientBoostingClassifier = 0.82\n"
     ]
    }
   ],
   "source": [
    "X = df.iloc[:, :-1].values\n",
    "y = df.iloc[:, -1].values\n",
    "\n",
    "X_train, X_test, y_train, y_test = train_test_split(X, y, test_size=0.2, random_state=42)\n",
    "\n",
    "classifier = GradientBoostingClassifier(learning_rate=0.1, \n",
    "                                        n_estimators=100,\n",
    "                                        subsample=1.0,\n",
    "                                        min_samples_split=2,\n",
    "                                        max_depth=3,\n",
    "                                        random_state=42)\n",
    "\n",
    "classifier.fit(X_train, y_train)\n",
    "\n",
    "y_pred = classifier.predict(X_test)\n",
    "\n",
    "cm_test = confusion_matrix(y_test, y_pred)\n",
    "cm_train = confusion_matrix(y_train, classifier.predict(X_train))\n",
    "\n",
    "print()\n",
    "accuracy_for_train = np.round((cm_train[0][0] + cm_train[1][1])/len(y_train) ,2)\n",
    "accuracy_for_test = np.round((cm_test[0][0] + cm_test[1][1])/len(y_test) ,2)\n",
    "print('Accuracy for training set for GradientBoostingClassifier = {}'.format(accuracy_for_train))\n",
    "print('Accuracy for test set for GradientBoostingClassifier = {}'.format(accuracy_for_test))"
   ]
  },
  {
   "cell_type": "markdown",
   "id": "ab6874df",
   "metadata": {},
   "source": [
    "### XGBoost"
   ]
  },
  {
   "cell_type": "code",
   "execution_count": 20,
   "id": "e66789d4",
   "metadata": {},
   "outputs": [],
   "source": [
    "from sklearn.model_selection import train_test_split\n",
    "from xgboost import XGBClassifier\n",
    "from sklearn.metrics import confusion_matrix"
   ]
  },
  {
   "cell_type": "code",
   "execution_count": 21,
   "id": "e5841ebb",
   "metadata": {},
   "outputs": [
    {
     "name": "stdout",
     "output_type": "stream",
     "text": [
      "\n",
      "Accuracy for training set for XGBClassifier = 1.0\n",
      "Accuracy for test set for XGBClassifier = 0.87\n"
     ]
    }
   ],
   "source": [
    "X = df.iloc[:, :-1].values\n",
    "y = df.iloc[:, -1].values\n",
    "\n",
    "X_train, X_test, y_train, y_test = train_test_split(X, y, test_size=0.2, random_state=42)\n",
    "\n",
    "xg = XGBClassifier(objective='binary:logistic',\n",
    "                   random_state=42,\n",
    "                   n_estimators=100)\n",
    "\n",
    "xg.fit(X_train, y_train)\n",
    "y_pred = xg.predict(X_test)\n",
    "\n",
    "cm_test = confusion_matrix(y_test, y_pred)\n",
    "cm_train = confusion_matrix(y_train, xg.predict(X_train))\n",
    "\n",
    "print()\n",
    "accuracy_for_train = np.round((cm_train[0][0] + cm_train[1][1])/len(y_train) ,2)\n",
    "accuracy_for_test = np.round((cm_test[0][0] + cm_test[1][1])/len(y_test) ,2)\n",
    "print('Accuracy for training set for XGBClassifier = {}'.format(accuracy_for_train))\n",
    "print('Accuracy for test set for XGBClassifier = {}'.format(accuracy_for_test))"
   ]
  },
  {
   "cell_type": "markdown",
   "id": "52868f0d",
   "metadata": {},
   "source": [
    "### SVM ver2"
   ]
  },
  {
   "cell_type": "code",
   "execution_count": 22,
   "id": "8f847054",
   "metadata": {},
   "outputs": [],
   "source": [
    "from sklearn.svm import SVC\n",
    "from sklearn.model_selection import train_test_split\n",
    "from sklearn.metrics import confusion_matrix"
   ]
  },
  {
   "cell_type": "code",
   "execution_count": 23,
   "id": "581bf92b",
   "metadata": {},
   "outputs": [
    {
     "name": "stdout",
     "output_type": "stream",
     "text": [
      "\n",
      "Accuracy for training set for SVC = 0.67\n",
      "Accuracy for test set for SVC = 0.67\n"
     ]
    }
   ],
   "source": [
    "X = df.iloc[:, :-1].values\n",
    "y = df.iloc[:, -1].values\n",
    "\n",
    "X_train, X_test, y_train, y_test = train_test_split(X, y, test_size=0.2, random_state=42)\n",
    "\n",
    "classifier = SVC(kernel='rbf', C=1.0, gamma='scale', random_state=42)\n",
    "\n",
    "classifier.fit(X_train, y_train)\n",
    "y_pred = classifier.predict(X_test)\n",
    "\n",
    "cm_test = confusion_matrix(y_test, y_pred)\n",
    "cm_train = confusion_matrix(y_train, classifier.predict(X_train))\n",
    "\n",
    "print()\n",
    "accuracy_for_train = np.round((cm_train[0][0] + cm_train[1][1])/len(y_train) ,2)\n",
    "accuracy_for_test = np.round((cm_test[0][0] + cm_test[1][1])/len(y_test) ,2)\n",
    "print('Accuracy for training set for SVC = {}'.format(accuracy_for_train))\n",
    "print('Accuracy for test set for SVC = {}'.format(accuracy_for_test))"
   ]
  },
  {
   "cell_type": "markdown",
   "id": "89914a97",
   "metadata": {},
   "source": [
    "### Stacking-Based"
   ]
  },
  {
   "cell_type": "code",
   "execution_count": 24,
   "id": "f7f4c7f5",
   "metadata": {},
   "outputs": [],
   "source": [
    "from sklearn.model_selection import train_test_split\n",
    "from sklearn.ensemble import StackingClassifier\n",
    "from sklearn.metrics import confusion_matrix"
   ]
  },
  {
   "cell_type": "code",
   "execution_count": 25,
   "id": "ca818a67",
   "metadata": {},
   "outputs": [
    {
     "name": "stderr",
     "output_type": "stream",
     "text": [
      "c:\\ProgramData\\miniforge3\\envs\\AIO\\lib\\site-packages\\xgboost\\core.py:726: FutureWarning: Pass `objective` as keyword args.\n",
      "  warnings.warn(msg, FutureWarning)\n"
     ]
    },
    {
     "name": "stdout",
     "output_type": "stream",
     "text": [
      "\n",
      "Accuracy for training set for SVC = 0.9\n",
      "Accuracy for test set for SVC = 0.79\n"
     ]
    }
   ],
   "source": [
    "X = df.iloc[:, :-1].values\n",
    "y = df.iloc[:, -1].values\n",
    "X_train, X_test, y_train, y_test = train_test_split(X, y, test_size=0.2, random_state=42)\n",
    "\n",
    "dtc = DecisionTreeClassifier(random_state=42)\n",
    "rfc = RandomForestClassifier(random_state=42)\n",
    "knn = KNeighborsClassifier()\n",
    "xgb = XGBClassifier(XGBClassifier)\n",
    "gc = GradientBoostingClassifier(random_state=42)\n",
    "svc = SVC(kernel='rbf',random_state=42)\n",
    "ad = AdaBoostClassifier(random_state=42)\n",
    "\n",
    "clf = [('dtc', dtc),\n",
    "       ('rfc', rfc),\n",
    "       ('knn', knn),\n",
    "       ('gc', gc),\n",
    "       ('ad', ad),\n",
    "       ('svc', svc),]\n",
    "\n",
    "xg = XGBClassifier()\n",
    "classifier = StackingClassifier(estimators=clf, final_estimator=xg)\n",
    "classifier.fit(X_train, y_train)\n",
    "\n",
    "y_pred = classifier.predict(X_test)\n",
    "\n",
    "cm_test = confusion_matrix(y_test, y_pred)\n",
    "cm_train = confusion_matrix(y_train, classifier.predict(X_train))\n",
    "\n",
    "\n",
    "print()\n",
    "accuracy_for_train = np.round((cm_train[0][0] + cm_train[1][1])/len(y_train) ,2)\n",
    "accuracy_for_test = np.round((cm_test[0][0] + cm_test[1][1])/len(y_test) ,2)\n",
    "print('Accuracy for training set for SVC = {}'.format(accuracy_for_train))\n",
    "print('Accuracy for test set for SVC = {}'.format(accuracy_for_test))"
   ]
  },
  {
   "cell_type": "markdown",
   "id": "6e75fe78",
   "metadata": {},
   "source": [
    "### Decission Tree: Important Features"
   ]
  },
  {
   "cell_type": "code",
   "execution_count": 30,
   "id": "0bbb05c0",
   "metadata": {},
   "outputs": [],
   "source": [
    "import pandas as pd\n",
    "from sklearn.model_selection import train_test_split\n",
    "from sklearn.metrics import confusion_matrix\n",
    "from sklearn.tree import DecisionTreeClassifier\n",
    "import seaborn as sns\n",
    "from sklearn import datasets"
   ]
  },
  {
   "cell_type": "code",
   "execution_count": 31,
   "id": "a1dd5ed1",
   "metadata": {},
   "outputs": [
    {
     "name": "stderr",
     "output_type": "stream",
     "text": [
      "C:\\Users\\Admin\\AppData\\Local\\Temp\\ipykernel_5304\\1239808936.py:16: FutureWarning: \n",
      "\n",
      "Passing `palette` without assigning `hue` is deprecated and will be removed in v0.14.0. Assign the `y` variable to `hue` and set `legend=False` for the same effect.\n",
      "\n",
      "  sns.barplot(x=sorted_importances, y=sorted_feature_names, palette='viridis')\n"
     ]
    },
    {
     "data": {
      "text/plain": [
       "<Axes: >"
      ]
     },
     "execution_count": 31,
     "metadata": {},
     "output_type": "execute_result"
    },
    {
     "data": {
      "image/png": "[encoded data removed]",
      "text/plain": [
       "<Figure size 640x480 with 1 Axes>"
      ]
     },
     "metadata": {},
     "output_type": "display_data"
    }
   ],
   "source": [
    "cancer = datasets.load_breast_cancer()\n",
    "X = pd.DataFrame(cancer.data, columns=cancer.feature_names)\n",
    "y = cancer.target\n",
    "X_train, X_test, y_train, y_test = train_test_split(X, y, test_size=0.25, random_state=42)\n",
    "\n",
    "clf = DecisionTreeClassifier(criterion='gini')\n",
    "clf.fit(X_train, y_train)\n",
    "\n",
    "features_importances = clf.feature_importances_\n",
    "\n",
    "sorted_indices = np.argsort(features_importances)[::-1]\n",
    "sorted_feature_names = cancer.feature_names[sorted_indices]\n",
    "sorted_importances = features_importances[sorted_indices]\n",
    "\n",
    "sns.set_context(rc={'figure.figsize':(11.7, 8.27)})\n",
    "sns.barplot(x=sorted_importances, y=sorted_feature_names, palette='viridis')"
   ]
  },
  {
   "cell_type": "code",
   "execution_count": null,
   "id": "f1a5390c",
   "metadata": {},
   "outputs": [],
   "source": []
  }
 ],
 "metadata": {
  "kernelspec": {
   "display_name": "AIO",
   "language": "python",
   "name": "python3"
  },
  "language_info": {
   "codemirror_mode": {
    "name": "ipython",
    "version": 3
   },
   "file_extension": ".py",
   "mimetype": "text/x-python",
   "name": "python",
   "nbconvert_exporter": "python",
   "pygments_lexer": "ipython3",
   "version": "3.10.0"
  }
 },
 "nbformat": 4,
 "nbformat_minor": 5
}
